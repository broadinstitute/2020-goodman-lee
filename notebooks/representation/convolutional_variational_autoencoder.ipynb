{
 "cells": [
  {
   "cell_type": "markdown",
   "metadata": {},
   "source": [
    "# Convolutional variational autoencoder (CVAE)"
   ]
  },
  {
   "cell_type": "code",
   "execution_count": 1,
   "metadata": {},
   "outputs": [],
   "source": [
    "import glob\n",
    "import time\n",
    "\n",
    "import matplotlib.pyplot\n",
    "import numpy\n",
    "import skimage.io\n",
    "import sklearn.model_selection\n",
    "import tensorflow\n",
    "import tensorflow_probability"
   ]
  },
  {
   "cell_type": "code",
   "execution_count": 2,
   "metadata": {},
   "outputs": [],
   "source": [
    "BASE_DEPTH = 32\n",
    "BATCH_SIZE = 32\n",
    "CONVOLUTION_OPTIONS = {\"activation\": tensorflow.nn.leaky_relu, \"kernel_size\": 5, \"padding\": \"same\"}\n",
    "DIMENSIONS = 2\n",
    "ENCODED_SIZE = 16\n",
    "EPOCHS = 100\n",
    "GENERATED_SAMPLES = 16\n",
    "INPUT_SHAPE = (28, 28, 1)\n",
    "OPTIMIZER = tensorflow.keras.optimizers.Adam(0.0001)\n",
    "PRIOR = tensorflow_probability.distributions.Independent(tensorflow_probability.distributions.Normal(tensorflow.zeros(ENCODED_SIZE), 1), 1)"
   ]
  },
  {
   "cell_type": "code",
   "execution_count": 3,
   "metadata": {},
   "outputs": [],
   "source": [
    "def preprocess(image):\n",
    "    image = tensorflow.image.resize(image, (28, 28))\n",
    "    \n",
    "    return tensorflow.image.rgb_to_grayscale(image)\n",
    "\n",
    "def render_images(images):\n",
    "    matplotlib.pyplot.figure(figsize=(12, 12))\n",
    "\n",
    "    for index, image in enumerate(images[:25]):\n",
    "        axis = matplotlib.pyplot.subplot(5, 5, index + 1)\n",
    "\n",
    "        matplotlib.pyplot.imshow(image[:, :, 0])\n",
    "\n",
    "        matplotlib.pyplot.axis(\"off\")"
   ]
  },
  {
   "cell_type": "code",
   "execution_count": null,
   "metadata": {},
   "outputs": [
    {
     "name": "stdout",
     "output_type": "stream",
     "text": [
      "CPU times: user 38.9 ms, sys: 2min 4s, total: 2min 4s\n",
      "Wall time: 2min 4s\n"
     ]
    }
   ],
   "source": [
    "%time x_0 = numpy.load(\"../../data/objects-0.npy\")\n",
    "\n",
    "training_0, test_0 = sklearn.model_selection.train_test_split(x_0)"
   ]
  },
  {
   "cell_type": "code",
   "execution_count": null,
   "metadata": {},
   "outputs": [],
   "source": [
    "# Training, 0\n",
    "\n",
    "training_0 = tensorflow.data.Dataset.from_tensor_slices(training_0)\n",
    "\n",
    "training_0 = training_0.map(preprocess, tensorflow.data.experimental.AUTOTUNE)\n",
    "\n",
    "training_0 = training_0.cache().shuffle(1024).batch(256).prefetch(tensorflow.data.experimental.AUTOTUNE)\n",
    "\n",
    "matplotlib.pyplot.figure(figsize=(12, 12))\n",
    "\n",
    "render_images([image.numpy() for image in training_0.take(1)][0][:25])"
   ]
  },
  {
   "cell_type": "code",
   "execution_count": null,
   "metadata": {},
   "outputs": [],
   "source": [
    "# Test, 0\n",
    "\n",
    "test_0 = tensorflow.data.Dataset.from_tensor_slices(test_0)\n",
    "\n",
    "test_0 = test_0.map(preprocess, tensorflow.data.experimental.AUTOTUNE)\n",
    "\n",
    "test_0 = test_0.cache().shuffle(1024).batch(256).prefetch(tensorflow.data.experimental.AUTOTUNE)\n",
    "\n",
    "render_images([image.numpy() for image in test_0.take(1)][0][:25])"
   ]
  },
  {
   "cell_type": "code",
   "execution_count": null,
   "metadata": {},
   "outputs": [],
   "source": [
    "decoder = tensorflow.keras.Sequential([\n",
    "    tensorflow.keras.layers.InputLayer(input_shape=(ENCODED_SIZE,)),\n",
    "\n",
    "    tensorflow.keras.layers.Reshape([1, 1, 16]),\n",
    "\n",
    "    tensorflow.keras.layers.Conv2DTranspose(2 * BASE_DEPTH, 7, strides=1, padding=\"valid\", activation=tensorflow.nn.leaky_relu),\n",
    "\n",
    "    tensorflow.keras.layers.Conv2DTranspose(2 * BASE_DEPTH, strides=1, **CONVOLUTION_OPTIONS),\n",
    "    tensorflow.keras.layers.Conv2DTranspose(2 * BASE_DEPTH, strides=2, **CONVOLUTION_OPTIONS),\n",
    "    tensorflow.keras.layers.Conv2DTranspose(1 * BASE_DEPTH, strides=1, **CONVOLUTION_OPTIONS),\n",
    "    tensorflow.keras.layers.Conv2DTranspose(1 * BASE_DEPTH, strides=2, **CONVOLUTION_OPTIONS),\n",
    "    tensorflow.keras.layers.Conv2DTranspose(1 * BASE_DEPTH, strides=1, **CONVOLUTION_OPTIONS),\n",
    "\n",
    "    tensorflow.keras.layers.Conv2D(1, 5, strides=1, padding=\"same\", activation=None),\n",
    "\n",
    "    tensorflow.keras.layers.Flatten(),\n",
    "\n",
    "    tensorflow_probability.layers.IndependentBernoulli(INPUT_SHAPE, tensorflow_probability.distributions.Bernoulli.logits),\n",
    "])\n",
    "\n",
    "activity_regularizer = tensorflow_probability.layers.KLDivergenceRegularizer(PRIOR, weight=1.0)\n",
    "        \n",
    "units = tensorflow_probability.layers.MultivariateNormalTriL.params_size(ENCODED_SIZE)\n",
    "        \n",
    "encoder = tensorflow.keras.Sequential([\n",
    "    tensorflow.keras.layers.InputLayer(input_shape=INPUT_SHAPE),\n",
    "\n",
    "    tensorflow.keras.layers.Lambda(lambda x: tensorflow.cast(x, tensorflow.float32) - 0.5),\n",
    "\n",
    "    tensorflow.keras.layers.Conv2D(1 * BASE_DEPTH, strides=1, **CONVOLUTION_OPTIONS),\n",
    "    tensorflow.keras.layers.Conv2D(1 * BASE_DEPTH, strides=2, **CONVOLUTION_OPTIONS),\n",
    "    tensorflow.keras.layers.Conv2D(2 * BASE_DEPTH, strides=1, **CONVOLUTION_OPTIONS),\n",
    "    tensorflow.keras.layers.Conv2D(2 * BASE_DEPTH, strides=2, **CONVOLUTION_OPTIONS),\n",
    "\n",
    "    tensorflow.keras.layers.Conv2D(4 * ENCODED_SIZE, 7, strides=1, padding=\"valid\", activation=tensorflow.nn.leaky_relu),\n",
    "\n",
    "    tensorflow.keras.layers.Flatten(),\n",
    "\n",
    "    tensorflow.keras.layers.Dense(units=units, activation=None),\n",
    "\n",
    "    tensorflow_probability.layers.MultivariateNormalTriL(ENCODED_SIZE, activity_regularizer=activity_regularizer),\n",
    "])\n",
    "\n",
    "model = tensorflow.keras.Model(encoder.inputs, decoder(encoder.outputs[0]))\n",
    "\n",
    "model.compile(OPTIMIZER, lambda x, y: 0.0 - y.log_prob(x))"
   ]
  },
  {
   "cell_type": "code",
   "execution_count": null,
   "metadata": {},
   "outputs": [],
   "source": [
    "model.fit(\n",
    "    x=training_0,\n",
    "    epochs=100,\n",
    "    validation_data=test_0\n",
    ")"
   ]
  },
  {
   "cell_type": "code",
   "execution_count": null,
   "metadata": {},
   "outputs": [],
   "source": [
    "x = next(iter(test_0))\n",
    "\n",
    "x_hat = model(x)\n",
    "\n",
    "assert isinstance(x_hat, tensorflow_probability.distributions.Distribution)\n",
    "\n",
    "render_images(x[:25])"
   ]
  },
  {
   "cell_type": "code",
   "execution_count": null,
   "metadata": {},
   "outputs": [],
   "source": [
    "render_images(x_hat.sample()[:25])"
   ]
  },
  {
   "cell_type": "code",
   "execution_count": null,
   "metadata": {},
   "outputs": [],
   "source": [
    "render_images(x_hat.mode()[:25])"
   ]
  },
  {
   "cell_type": "code",
   "execution_count": null,
   "metadata": {},
   "outputs": [],
   "source": [
    "render_images(x_hat.mean()[:25])"
   ]
  },
  {
   "cell_type": "code",
   "execution_count": null,
   "metadata": {},
   "outputs": [],
   "source": [
    "z = PRIOR.sample(25)\n",
    "\n",
    "x_tilde = decoder(z)\n",
    "\n",
    "assert isinstance(x_tilde, tensorflow_probability.distributions.Distribution)"
   ]
  },
  {
   "cell_type": "code",
   "execution_count": null,
   "metadata": {},
   "outputs": [],
   "source": [
    "render_images(x_tilde.sample()[:25])"
   ]
  },
  {
   "cell_type": "code",
   "execution_count": null,
   "metadata": {},
   "outputs": [],
   "source": [
    "render_images(x_tilde.mode()[:25])"
   ]
  },
  {
   "cell_type": "code",
   "execution_count": null,
   "metadata": {},
   "outputs": [],
   "source": [
    "render_images(x_tilde.mean()[:25])"
   ]
  },
  {
   "cell_type": "code",
   "execution_count": null,
   "metadata": {},
   "outputs": [],
   "source": []
  }
 ],
 "metadata": {
  "kernelspec": {
   "display_name": "Python 3",
   "language": "python",
   "name": "python3"
  },
  "language_info": {
   "codemirror_mode": {
    "name": "ipython",
    "version": 3
   },
   "file_extension": ".py",
   "mimetype": "text/x-python",
   "name": "python",
   "nbconvert_exporter": "python",
   "pygments_lexer": "ipython3",
   "version": "3.7.3"
  }
 },
 "nbformat": 4,
 "nbformat_minor": 4
}
